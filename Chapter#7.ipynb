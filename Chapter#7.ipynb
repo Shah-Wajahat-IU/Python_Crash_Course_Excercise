{
 "cells": [
  {
   "cell_type": "markdown",
   "metadata": {},
   "source": [
    "### 6-1. Person: Use a dictionary to store information about a person you know. Store their first name, last name, age, and the city in which they live. You should have keys such as first_name, last_name, age, and city. Print each piece of information stored in your dictionary"
   ]
  },
  {
   "cell_type": "code",
   "execution_count": 2,
   "metadata": {},
   "outputs": [
    {
     "name": "stdout",
     "output_type": "stream",
     "text": [
      "Shah\n",
      "Wajahat\n",
      "25\n",
      "karachi\n"
     ]
    }
   ],
   "source": [
    "person={\n",
    "    \"first_name\":\"Shah\",\n",
    "    \"last_name\":\"Wajahat\",\n",
    "    \"age\":25,\n",
    "    \"city\":\"karachi\"\n",
    "}\n",
    "print(person['first_name'])\n",
    "print(person['last_name'])\n",
    "print(person['age'])\n",
    "print(person['city'])"
   ]
  },
  {
   "cell_type": "markdown",
   "metadata": {},
   "source": [
    "### 6-2. Favorite Numbers: Use a dictionary to store people’s favorite numbers. Think of five names, and use them as keys in your dictionary. Think of a favoritenumber for each person, and store each as a value in your dictionary. Print each person’s name and their favorite number. For even more fun, poll a few friends and get some actual data for your program."
   ]
  },
  {
   "cell_type": "code",
   "execution_count": 9,
   "metadata": {},
   "outputs": [
    {
     "name": "stdout",
     "output_type": "stream",
     "text": [
      "wajahat favorite number is: 12\n",
      "ali favorite number is: 2\n",
      "haris favorite number is: 25\n",
      "shahbaz favorite number is: 2\n"
     ]
    }
   ],
   "source": [
    "person={\n",
    "    \"wajahat\":12,\n",
    "    \"ali\":2,\n",
    "    \"haris\":25,\n",
    "    \"shahbaz\":2\n",
    "}\n",
    "\n",
    "for key in person.keys():\n",
    "    print(key+\" favorite number is:\",person[key])"
   ]
  },
  {
   "cell_type": "markdown",
   "metadata": {},
   "source": [
    "### 6-3. Glossary: A Python dictionary can be used to model an actual dictionary. However, to avoid confusion, let’s call it a glossary.\n",
    "<ul> \n",
    "    <li>Think of five programming words you’ve learned about in the previous\n",
    "chapters. Use these words as the keys in your glossary, and store their meanings as values.</li>\n",
    "<li>Print each word and its meaning as neatly formatted output. You might\n",
    "print the word followed by a colon and then its meaning, or print the word\n",
    "on one line and then print its meaning indented on a second line. Use the\n",
    "newline character (\\n) to insert a blank line between each word-meaning\n",
    "        pair in your output.</li>\n",
    "    </ul>"
   ]
  },
  {
   "cell_type": "code",
   "execution_count": 11,
   "metadata": {},
   "outputs": [
    {
     "name": "stdout",
     "output_type": "stream",
     "text": [
      "string : A series of characters.\n",
      "comment : A note in a program that the Python interpreter ignores.\n",
      "list : A collection of items in a particular order.\n",
      "loop : Work through a collection of items, one at a time.\n",
      "dictionary : A collection of key-value pairs.\n"
     ]
    }
   ],
   "source": [
    "glossary = {\n",
    "    'string': 'A series of characters.',\n",
    "    'comment': 'A note in a program that the Python interpreter ignores.',\n",
    "    'list': 'A collection of items in a particular order.',\n",
    "    'loop': 'Work through a collection of items, one at a time.',\n",
    "    'dictionary': \"A collection of key-value pairs.\",\n",
    "    }\n",
    "for key , value in glossary.items():\n",
    "    print(key,\":\", value)"
   ]
  },
  {
   "cell_type": "markdown",
   "metadata": {},
   "source": [
    "### 6-5. Rivers: Make a dictionary containing three major rivers and the country each river runs through. One key-value pair might be 'nile': 'egypt'.\n",
    "<ul>\n",
    "    <li>Use a loop to print a sentence about each river, such as The Nile runs\n",
    "        through Egypt.</li>\n",
    "    <li>Use a loop to print the name of each river included in the dictionary.</li>\n",
    "    <li>Use a loop to print the name of each country included in the dictionary</li>\n",
    "    </ul>"
   ]
  },
  {
   "cell_type": "code",
   "execution_count": 12,
   "metadata": {},
   "outputs": [
    {
     "name": "stdout",
     "output_type": "stream",
     "text": [
      "The Nile flows through Egypt.\n",
      "The Mississippi flows through United States.\n",
      "The Fraser flows through Canada.\n",
      "The Kuskokwim flows through Alaska.\n",
      "The Yangtze flows through China.\n",
      "\n",
      "The following rivers are included in this data set:\n",
      "- Nile\n",
      "- Mississippi\n",
      "- Fraser\n",
      "- Kuskokwim\n",
      "- Yangtze\n",
      "\n",
      "The following countries are included in this data set:\n",
      "- Egypt\n",
      "- United States\n",
      "- Canada\n",
      "- Alaska\n",
      "- China\n"
     ]
    }
   ],
   "source": [
    "rivers = {\n",
    "    'nile': 'egypt',\n",
    "    'mississippi': 'united states',\n",
    "    'fraser': 'canada',\n",
    "    'kuskokwim': 'alaska',\n",
    "    'yangtze': 'china',\n",
    "    }\n",
    "\n",
    "for river, country in rivers.items():\n",
    "    print(f\"The {river.title()} flows through {country.title()}.\")\n",
    "\n",
    "print(\"\\nThe following rivers are included in this data set:\")\n",
    "for river in rivers.keys():\n",
    "    print(f\"- {river.title()}\")\n",
    "\n",
    "print(\"\\nThe following countries are included in this data set:\")\n",
    "for country in rivers.values():\n",
    "    print(f\"- {country.title()}\")"
   ]
  },
  {
   "cell_type": "markdown",
   "metadata": {},
   "source": [
    "### 6-6. Polling: Use the code in favorite_languages.py (page 104).\n",
    "<ul> \n",
    "    <li>Make a list of people who should take the favorite languages poll. Include\n",
    "        some names that are already in the dictionary and some that are not.</li>\n",
    "<li>Loop through the list of people who should take the poll. If they have\n",
    "already taken the poll, print a message thanking them for responding.\n",
    "If they have not yet taken the poll, print a message inviting them to take\n",
    "the poll.</li></ul>"
   ]
  },
  {
   "cell_type": "code",
   "execution_count": 15,
   "metadata": {},
   "outputs": [
    {
     "name": "stdout",
     "output_type": "stream",
     "text": [
      "Ali's favorite language is Python.\n",
      "Sarah's favorite language is C.\n",
      "Jawed's favorite language is Ruby.\n",
      "Wajahat's favorite language is Python.\n",
      "\n",
      "\n",
      "Thank you for taking the poll, Ali!\n",
      "Kamran, what's your favorite programming language?\n",
      "Junaid, what's your favorite programming language?\n",
      "Thank you for taking the poll, Sarah!\n",
      "Thank you for taking the poll, Wajahat!\n",
      "Haris, what's your favorite programming language?\n",
      "Danial, what's your favorite programming language?\n"
     ]
    }
   ],
   "source": [
    "favorite_languages = {\n",
    "    'ali': 'python',\n",
    "    'sarah': 'c',\n",
    "    'jawed': 'ruby',\n",
    "    'wajahat': 'python',\n",
    "    }\n",
    "\n",
    "for name, language in favorite_languages.items():\n",
    "    print(f\"{name.title()}'s favorite language is {language.title()}.\")\n",
    "\n",
    "print(\"\\n\")\n",
    "\n",
    "coders = ['ali', 'kamran', 'junaid', 'sarah', 'wajahat', 'haris', 'danial']\n",
    "for coder in coders:\n",
    "    if coder in favorite_languages.keys():\n",
    "        print(f\"Thank you for taking the poll, {coder.title()}!\")\n",
    "    else:\n",
    "        print(f\"{coder.title()}, what's your favorite programming language?\")"
   ]
  },
  {
   "cell_type": "markdown",
   "metadata": {},
   "source": [
    "### 6-7. People: Start with the program you wrote for Exercise 6-1 (page 102). Make two new dictionaries representing different people, and store all three dictionaries in a list called people. Loop through your list of people. As you loop through the list, print everything you know about each person."
   ]
  },
  {
   "cell_type": "code",
   "execution_count": 16,
   "metadata": {},
   "outputs": [
    {
     "name": "stdout",
     "output_type": "stream",
     "text": [
      "Shah Wajahat, of Karachi, is 25 years old.\n",
      "Syed Junaid, of Karachi, is 26 years old.\n",
      "Syed Haris, of Karachi, is 25 years old.\n"
     ]
    }
   ],
   "source": [
    "people = []\n",
    "person = {\n",
    "    'first_name': 'shah',\n",
    "    'last_name': 'Wajahat',\n",
    "    'age': 25,\n",
    "    'city': 'karachi',\n",
    "    }\n",
    "people.append(person)\n",
    "\n",
    "person = {\n",
    "    'first_name': 'syed',\n",
    "    'last_name': 'Junaid',\n",
    "    'age': 26,\n",
    "    'city': 'karachi',\n",
    "    }\n",
    "people.append(person)\n",
    "\n",
    "person = {\n",
    "    'first_name': 'syed',\n",
    "    'last_name': 'haris',\n",
    "    'age': 25,\n",
    "    'city': 'karachi',\n",
    "    }\n",
    "people.append(person)\n",
    "\n",
    "\n",
    "for person in people:\n",
    "    name = f\"{person['first_name'].title()} {person['last_name'].title()}\"\n",
    "    age = person['age']\n",
    "    city = person['city'].title()\n",
    "    \n",
    "    print(f\"{name}, of {city}, is {age} years old.\")"
   ]
  },
  {
   "cell_type": "markdown",
   "metadata": {},
   "source": [
    "### 6-8. Pets: Make several dictionaries, where the name of each dictionary is the name of a pet. In each dictionary, include the kind of animal and the owner’s name. Store these dictionaries in a list called pets. Next, loop through your list and as you do print everything you know about each pet."
   ]
  },
  {
   "cell_type": "code",
   "execution_count": 17,
   "metadata": {},
   "outputs": [
    {
     "name": "stdout",
     "output_type": "stream",
     "text": [
      "\n",
      "Here's what I know about John:\n",
      "\tanimal type: python\n",
      "\tname: john\n",
      "\towner: guido\n",
      "\tweight: 43\n",
      "\teats: bugs\n",
      "\n",
      "Here's what I know about Clarence:\n",
      "\tanimal type: chicken\n",
      "\tname: clarence\n",
      "\towner: tiffany\n",
      "\tweight: 2\n",
      "\teats: seeds\n",
      "\n",
      "Here's what I know about Peso:\n",
      "\tanimal type: dog\n",
      "\tname: peso\n",
      "\towner: eric\n",
      "\tweight: 37\n",
      "\teats: shoes\n"
     ]
    }
   ],
   "source": [
    "pets = []\n",
    "\n",
    "\n",
    "pet = {\n",
    "    'animal type': 'python',\n",
    "    'name': 'john',\n",
    "    'owner': 'guido',\n",
    "    'weight': 43,\n",
    "    'eats': 'bugs',\n",
    "}\n",
    "pets.append(pet)\n",
    "\n",
    "pet = {\n",
    "    'animal type': 'chicken',\n",
    "    'name': 'clarence',\n",
    "    'owner': 'tiffany',\n",
    "    'weight': 2,\n",
    "    'eats': 'seeds',\n",
    "}\n",
    "pets.append(pet)\n",
    "\n",
    "pet = {\n",
    "    'animal type': 'dog',\n",
    "    'name': 'peso',\n",
    "    'owner': 'eric',\n",
    "    'weight': 37,\n",
    "    'eats': 'shoes',\n",
    "}\n",
    "pets.append(pet)\n",
    "\n",
    "for pet in pets:\n",
    "    print(f\"\\nHere's what I know about {pet['name'].title()}:\")\n",
    "    for key, value in pet.items():\n",
    "        print(f\"\\t{key}: {value}\")"
   ]
  },
  {
   "cell_type": "markdown",
   "metadata": {},
   "source": [
    "### 6-9. Favorite Places: Make a dictionary called favorite_places. Think of three names to use as keys in the dictionary, and store one to three favorite places for each person. To make this exercise a bit more interesting, ask some friends to name a few of their favorite places. Loop through the dictionary, and print each person’s name and their favorite places."
   ]
  },
  {
   "cell_type": "code",
   "execution_count": 18,
   "metadata": {},
   "outputs": [
    {
     "name": "stdout",
     "output_type": "stream",
     "text": [
      "\n",
      "Eric likes the following places:\n",
      "- Bear Mountain\n",
      "- Death Valley\n",
      "- Tierra Del Fuego\n",
      "\n",
      "Erin likes the following places:\n",
      "- Hawaii\n",
      "- Iceland\n",
      "\n",
      "Willie likes the following places:\n",
      "- Mt. Verstovia\n",
      "- The Playground\n",
      "- New Hampshire\n"
     ]
    }
   ],
   "source": [
    "favorite_places = {\n",
    "    'eric': ['bear mountain', 'death valley', 'tierra del fuego'],\n",
    "    'erin': ['hawaii', 'iceland'],\n",
    "    'willie': ['mt. verstovia', 'the playground', 'new hampshire']\n",
    "    }\n",
    "\n",
    "for name, places in favorite_places.items():\n",
    "    print(f\"\\n{name.title()} likes the following places:\")\n",
    "    for place in places:\n",
    "        print(f\"- {place.title()}\")"
   ]
  },
  {
   "cell_type": "markdown",
   "metadata": {},
   "source": [
    "### 6-10. Favorite Numbers: Modify your program from Exercise 6-2 (page 102) so each person can have more than one favorite number. Then print each person’s name along with their favorite numbers."
   ]
  },
  {
   "cell_type": "code",
   "execution_count": 19,
   "metadata": {},
   "outputs": [
    {
     "name": "stdout",
     "output_type": "stream",
     "text": [
      "\n",
      "Mandy likes the following numbers:\n",
      "  42\n",
      "  17\n",
      "\n",
      "Micah likes the following numbers:\n",
      "  42\n",
      "  39\n",
      "  56\n",
      "\n",
      "Gus likes the following numbers:\n",
      "  7\n",
      "  12\n"
     ]
    }
   ],
   "source": [
    "favorite_numbers = {\n",
    "    'mandy': [42, 17],\n",
    "    'micah': [42, 39, 56],\n",
    "    'gus': [7, 12],\n",
    "    }\n",
    "\n",
    "for name, numbers in favorite_numbers.items():\n",
    "    print(f\"\\n{name.title()} likes the following numbers:\")\n",
    "    for number in numbers:\n",
    "        print(f\"  {number}\")"
   ]
  },
  {
   "cell_type": "markdown",
   "metadata": {},
   "source": [
    "### 6-11. Cities: Make a dictionary called cities. Use the names of three cities as keys in your dictionary. Create a dictionary of information about each city and include the country that the city is in, its approximate population, and one fact about that city. The keys for each city’s dictionary should be something like country, population, and fact. Print the name of each city and all of the information you have stored about it."
   ]
  },
  {
   "cell_type": "code",
   "execution_count": 20,
   "metadata": {},
   "outputs": [
    {
     "name": "stdout",
     "output_type": "stream",
     "text": [
      "\n",
      "Santiago is in Chile.\n",
      "  It has a population of about 6310000.\n",
      "  The Andes mounats are nearby.\n",
      "\n",
      "Talkeetna is in United States.\n",
      "  It has a population of about 876.\n",
      "  The Alaska Range mounats are nearby.\n",
      "\n",
      "Kathmandu is in Nepal.\n",
      "  It has a population of about 975453.\n",
      "  The Himilaya mounats are nearby.\n"
     ]
    }
   ],
   "source": [
    "cities = {\n",
    "    'santiago': {\n",
    "        'country': 'chile',\n",
    "        'population': 6_310_000,\n",
    "        'nearby mountains': 'andes',\n",
    "        },\n",
    "    'talkeetna': {\n",
    "        'country': 'united states',\n",
    "        'population': 876,\n",
    "        'nearby mountains': 'alaska range',\n",
    "        },\n",
    "    'kathmandu': {\n",
    "        'country': 'nepal',\n",
    "        'population': 975_453,\n",
    "        'nearby mountains': 'himilaya',\n",
    "        }\n",
    "    }\n",
    "\n",
    "for city, city_info in cities.items():\n",
    "    country = city_info['country'].title()\n",
    "    population = city_info['population']\n",
    "    mountains = city_info['nearby mountains'].title()\n",
    "\n",
    "    print(f\"\\n{city.title()} is in {country}.\")\n",
    "    print(f\"  It has a population of about {population}.\")\n",
    "    print(f\"  The {mountains} mounats are nearby.\")"
   ]
  },
  {
   "cell_type": "code",
   "execution_count": null,
   "metadata": {},
   "outputs": [],
   "source": []
  }
 ],
 "metadata": {
  "kernelspec": {
   "display_name": "Python 3",
   "language": "python",
   "name": "python3"
  },
  "language_info": {
   "codemirror_mode": {
    "name": "ipython",
    "version": 3
   },
   "file_extension": ".py",
   "mimetype": "text/x-python",
   "name": "python",
   "nbconvert_exporter": "python",
   "pygments_lexer": "ipython3",
   "version": "3.8.5"
  }
 },
 "nbformat": 4,
 "nbformat_minor": 4
}
