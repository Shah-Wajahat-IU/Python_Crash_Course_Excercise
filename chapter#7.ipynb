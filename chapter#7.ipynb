{
 "cells": [
  {
   "cell_type": "markdown",
   "metadata": {},
   "source": [
    "### 7-1. Rental Car: Write a program that asks the user what kind of rental car they would like. Print a message about that car, such as “Let me see if I can find you a Subaru.”"
   ]
  },
  {
   "cell_type": "code",
   "execution_count": 1,
   "metadata": {},
   "outputs": [
    {
     "name": "stdout",
     "output_type": "stream",
     "text": [
      "What kind of car would you like? honda civic\n",
      "Let me see if I can find you a Honda Civic.\n"
     ]
    }
   ],
   "source": [
    "car = input(\"What kind of car would you like? \")\n",
    "\n",
    "print(f\"Let me see if I can find you a {car.title()}.\")"
   ]
  },
  {
   "cell_type": "markdown",
   "metadata": {},
   "source": [
    "### 7-2. Restaurant Seating: Write a program that asks the user how many people are in their dinner group. If the answer is more than eight, print a message saying they’ll have to wait for a table. Otherwise, report that their table is ready."
   ]
  },
  {
   "cell_type": "code",
   "execution_count": 2,
   "metadata": {},
   "outputs": [
    {
     "name": "stdout",
     "output_type": "stream",
     "text": [
      "How many people are in your dinner party tonight? 4\n",
      "Your table is ready.\n"
     ]
    }
   ],
   "source": [
    "party_size = input(\"How many people are in your dinner party tonight? \")\n",
    "party_size = int(party_size)\n",
    "\n",
    "if party_size > 8:\n",
    "    print(\"I'm sorry, you'll have to wait for a table.\")\n",
    "else:\n",
    "    print(\"Your table is ready.\")"
   ]
  },
  {
   "cell_type": "markdown",
   "metadata": {},
   "source": [
    "### 7-3. Multiples of Ten: Ask the user for a number, and then report whether the number is a multiple of 10 or not."
   ]
  },
  {
   "cell_type": "code",
   "execution_count": 3,
   "metadata": {},
   "outputs": [
    {
     "name": "stdout",
     "output_type": "stream",
     "text": [
      "Give me a number, please: 5\n",
      "5 is not a multiple of 10.\n"
     ]
    }
   ],
   "source": [
    "number = input(\"Give me a number, please: \")\n",
    "number = int(number)\n",
    "\n",
    "if number % 10 == 0:\n",
    "    print(f\"{number} is a multiple of 10.\")\n",
    "else:\n",
    "    print(f\"{number} is not a multiple of 10.\")"
   ]
  },
  {
   "cell_type": "markdown",
   "metadata": {},
   "source": [
    "### 7-4. Pizza Toppings: Write a loop that prompts the user to enter a series of pizza toppings until they enter a 'quit' value. As they enter each topping, print a message saying you’ll add that topping to their pizza."
   ]
  },
  {
   "cell_type": "code",
   "execution_count": 4,
   "metadata": {},
   "outputs": [
    {
     "name": "stdout",
     "output_type": "stream",
     "text": [
      "\n",
      "What topping would you like on your pizza? \n",
      "Enter 'quit' when you are finished:pepperoni\n",
      "  I'll add pepperoni to your pizza.\n",
      "\n",
      "What topping would you like on your pizza? \n",
      "Enter 'quit' when you are finished:bacon\n",
      "  I'll add bacon to your pizza.\n",
      "\n",
      "What topping would you like on your pizza? \n",
      "Enter 'quit' when you are finished:quite\n",
      "  I'll add quite to your pizza.\n",
      "\n",
      "What topping would you like on your pizza? \n",
      "Enter 'quit' when you are finished:quit\n"
     ]
    }
   ],
   "source": [
    "while True:\n",
    "    topping = input(\"\\nWhat topping would you like on your pizza? \\nEnter 'quit' when you are finished:\")\n",
    "    if topping != 'quit':\n",
    "        print(f\"  I'll add {topping} to your pizza.\")\n",
    "    else:\n",
    "        break"
   ]
  },
  {
   "cell_type": "markdown",
   "metadata": {},
   "source": [
    "### 7-5. Movie Tickets: A movie theater charges different ticket prices depending on a person’s age. If a person is under the age of 3, the ticket is free; if they are between 3 and 12, the ticket is 10and if they are over age 12, theticket is 15. Write a loop in which you ask users their age, and then tell them the cost of their movie ticket."
   ]
  },
  {
   "cell_type": "code",
   "execution_count": 5,
   "metadata": {},
   "outputs": [
    {
     "name": "stdout",
     "output_type": "stream",
     "text": [
      "How old are you? \n",
      "Enter 'quit' when you are finished.6\n",
      "  Your ticket is $10.\n",
      "How old are you? \n",
      "Enter 'quit' when you are finished.3\n",
      "  Your ticket is $10.\n",
      "How old are you? \n",
      "Enter 'quit' when you are finished.2\n",
      "  You get in free!\n",
      "How old are you? \n",
      "Enter 'quit' when you are finished.quit\n"
     ]
    }
   ],
   "source": [
    "while True:\n",
    "    age = input(\"How old are you? \\nEnter 'quit' when you are finished.\")\n",
    "    if age == 'quit':\n",
    "        break\n",
    "    age = int(age)\n",
    "\n",
    "    if age < 3:\n",
    "        print(\"  You get in free!\")\n",
    "    elif age < 13:\n",
    "        print(\"  Your ticket is $10.\")\n",
    "    else:\n",
    "        print(\"  Your ticket is $15.\")"
   ]
  },
  {
   "cell_type": "code",
   "execution_count": null,
   "metadata": {},
   "outputs": [],
   "source": []
  },
  {
   "cell_type": "code",
   "execution_count": 7,
   "metadata": {},
   "outputs": [
    {
     "name": "stdout",
     "output_type": "stream",
     "text": [
      "I'm working on your roast beef sandwich.\n",
      "I'm working on your turkey sandwich.\n",
      "I'm working on your grilled cheese sandwich.\n",
      "I'm working on your veggie sandwich.\n",
      "\n",
      "\n",
      "I made a roast beef sandwich.\n",
      "I made a turkey sandwich.\n",
      "I made a grilled cheese sandwich.\n",
      "I made a veggie sandwich.\n"
     ]
    }
   ],
   "source": [
    "sandwich_orders = ['veggie', 'grilled cheese', 'turkey', 'roast beef']\n",
    "finished_sandwiches = []\n",
    "\n",
    "while sandwich_orders:\n",
    "    current_sandwich = sandwich_orders.pop()\n",
    "    print(f\"I'm working on your {current_sandwich} sandwich.\")\n",
    "    finished_sandwiches.append(current_sandwich)\n",
    "print(\"\\n\")\n",
    "for sandwich in finished_sandwiches:\n",
    "    print(f\"I made a {sandwich} sandwich.\")"
   ]
  },
  {
   "cell_type": "code",
   "execution_count": null,
   "metadata": {},
   "outputs": [],
   "source": [
    "### 7-9. No Pastrami: Using the list sandwich_orders from Exercise 7-8, make sure\n",
    "the sandwich 'pastrami' appears in the list at least three times. Add code\n",
    "near the beginning of your program to print a message saying the deli has\n",
    "run out of pastrami, and then use a while loop to remove all occurrences of\n",
    "'pastrami' from sandwich_orders. Make sure no pastrami sandwiches end up\n",
    "in finished_sandwiches."
   ]
  },
  {
   "cell_type": "code",
   "execution_count": 8,
   "metadata": {},
   "outputs": [
    {
     "name": "stdout",
     "output_type": "stream",
     "text": [
      "I'm sorry, we're all out of pastrami today.\n",
      "\n",
      "\n",
      "I'm working on your roast beef sandwich.\n",
      "I'm working on your turkey sandwich.\n",
      "I'm working on your grilled cheese sandwich.\n",
      "I'm working on your veggie sandwich.\n",
      "\n",
      "\n",
      "I made a roast beef sandwich.\n",
      "I made a turkey sandwich.\n",
      "I made a grilled cheese sandwich.\n",
      "I made a veggie sandwich.\n"
     ]
    }
   ],
   "source": [
    "sandwich_orders = [\n",
    "    'pastrami', 'veggie', 'grilled cheese', 'pastrami',\n",
    "    'turkey', 'roast beef', 'pastrami']\n",
    "finished_sandwiches = []\n",
    "\n",
    "print(\"I'm sorry, we're all out of pastrami today.\")\n",
    "while 'pastrami' in sandwich_orders:\n",
    "    sandwich_orders.remove('pastrami')\n",
    "\n",
    "print(\"\\n\")\n",
    "while sandwich_orders:\n",
    "    current_sandwich = sandwich_orders.pop()\n",
    "    print(f\"I'm working on your {current_sandwich} sandwich.\")\n",
    "    finished_sandwiches.append(current_sandwich)\n",
    "\n",
    "print(\"\\n\")\n",
    "for sandwich in finished_sandwiches:\n",
    "    print(f\"I made a {sandwich} sandwich.\")"
   ]
  },
  {
   "cell_type": "markdown",
   "metadata": {},
   "source": [
    "### 7-10. Dream Vacation: Write a program that polls users about their dream vacation. Write a prompt similar to If you could visit one place in the world, where would you go? Include a block of code that prints the results of the poll."
   ]
  },
  {
   "cell_type": "code",
   "execution_count": 9,
   "metadata": {},
   "outputs": [
    {
     "name": "stdout",
     "output_type": "stream",
     "text": [
      "\n",
      "What's your name? wajahat\n",
      "If you could visit one place in the world, where would it be? makka\n",
      "\n",
      "Would you like to let someone else respond? (yes/no)yes\n",
      "\n",
      "What's your name? junaid\n",
      "If you could visit one place in the world, where would it be? madina\n",
      "\n",
      "Would you like to let someone else respond? (yes/no)no\n",
      "\n",
      "--- Results ---\n",
      "Wajahat would like to visit Makka.\n",
      "Junaid would like to visit Madina.\n"
     ]
    }
   ],
   "source": [
    "\n",
    "responses = {}\n",
    "\n",
    "while True:\n",
    "    \n",
    "    name = input(\"\\nWhat's your name? \")\n",
    "    place = input(\"If you could visit one place in the world, where would it be? \")\n",
    "\n",
    "    \n",
    "    responses[name] = place\n",
    "\n",
    "   \n",
    "    repeat = input(\"\\nWould you like to let someone else respond? (yes/no)\" )\n",
    "    if repeat != 'yes':\n",
    "        break\n",
    "\n",
    "\n",
    "print(\"\\n--- Results ---\")\n",
    "for name, place in responses.items():\n",
    "    print(f\"{name.title()} would like to visit {place.title()}.\")"
   ]
  },
  {
   "cell_type": "code",
   "execution_count": null,
   "metadata": {},
   "outputs": [],
   "source": []
  }
 ],
 "metadata": {
  "kernelspec": {
   "display_name": "Python 3",
   "language": "python",
   "name": "python3"
  },
  "language_info": {
   "codemirror_mode": {
    "name": "ipython",
    "version": 3
   },
   "file_extension": ".py",
   "mimetype": "text/x-python",
   "name": "python",
   "nbconvert_exporter": "python",
   "pygments_lexer": "ipython3",
   "version": "3.8.5"
  }
 },
 "nbformat": 4,
 "nbformat_minor": 4
}
