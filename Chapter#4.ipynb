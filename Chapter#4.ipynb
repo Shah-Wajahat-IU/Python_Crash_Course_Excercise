{
 "cells": [
  {
   "cell_type": "markdown",
   "metadata": {},
   "source": [
    "### 4-1. Pizzas: Think of at least three kinds of your favorite pizza. Store these pizza names in a list, and then use a for loop to print the name of each pizza.\n",
    "<ul>\n",
    "\n",
    "<li>Modify your for loop to print a sentence using the name of the pizza instead of printing just the name of the pizza.For each pizza you should \n",
    "have one line of output containing a simple statement like I like pepperoni pizza.</li>\n",
    "<li>Add a line at the end of your program, outside the for loop, that states how much you like pizza. The output should consist of three or more lines\n",
    "about the kinds of pizza you like and then an additional sentence, such as I really love pizza!</li>\n",
    "</ul>\n"
   ]
  },
  {
   "cell_type": "code",
   "execution_count": 14,
   "metadata": {},
   "outputs": [],
   "source": [
    "pizza_names=[\"Pan Pizza\",\"Thin Crust Pizza\",\"New York Style Pizza\"]"
   ]
  },
  {
   "cell_type": "code",
   "execution_count": 15,
   "metadata": {},
   "outputs": [
    {
     "name": "stdout",
     "output_type": "stream",
     "text": [
      "_________Available Pizza________\n",
      "Pan Pizza\n",
      "Thin Crust Pizza\n",
      "New York Style Pizza\n"
     ]
    }
   ],
   "source": [
    "print(\"_________Available Pizza________\")\n",
    "for name in pizza_names:\n",
    "    print(name)"
   ]
  },
  {
   "cell_type": "code",
   "execution_count": 16,
   "metadata": {},
   "outputs": [
    {
     "name": "stdout",
     "output_type": "stream",
     "text": [
      "_________Available Pizza________\n",
      "I like Pan Pizza\n",
      "I like Thin Crust Pizza\n",
      "I like New York Style Pizza\n",
      "I really love pizza!\n"
     ]
    }
   ],
   "source": [
    "print(\"_________Available Pizza________\")\n",
    "for name in pizza_names:\n",
    "    print(f\"I like {name}\")\n",
    "print(\"I really love pizza!\")"
   ]
  },
  {
   "cell_type": "code",
   "execution_count": 17,
   "metadata": {},
   "outputs": [
    {
     "name": "stdout",
     "output_type": "stream",
     "text": [
      "|_________Available Pizza________|\n",
      "\n",
      "I like Pan Pizza\n",
      "I like Thin Crust Pizza\n",
      "I like New York Style Pizza\n",
      "\n",
      "I really love pizza!\n"
     ]
    }
   ],
   "source": [
    "print(\"|_________Available Pizza________|\\n\")\n",
    "for name in pizza_names:\n",
    "    print(f\"I like {name}\")\n",
    "print(\"\\nI really love pizza!\")"
   ]
  },
  {
   "cell_type": "markdown",
   "metadata": {},
   "source": [
    "### 4-2. Animals: Think of at least three different animals that have a common characteristic. Store the names of these animals in a list, and then use a for loop to print out the name of each animal.\n",
    "<ul>\n",
    "<li>Modify your program to print a statement about each animal, such as A dog would make a great pet.</li>\n",
    "\n",
    "<li>Add a line at the end of your program stating what these animals have in common. You could print a sentence such as Any of these animals would make a great pet!</li>\n",
    "    </ul>"
   ]
  },
  {
   "cell_type": "code",
   "execution_count": 21,
   "metadata": {},
   "outputs": [
    {
     "name": "stdout",
     "output_type": "stream",
     "text": [
      " ________________________\n",
      "|________PET STORE_______|\n",
      "Dog\n",
      "Cat\n",
      "parrote\n"
     ]
    }
   ],
   "source": [
    "pets=[\"Dog\",\"Cat\",\"parrote\"]\n",
    "print(\" ________________________\")\n",
    "print(\"|________PET STORE_______|\")\n",
    "for pet in pets:\n",
    "    print(pet)"
   ]
  },
  {
   "cell_type": "code",
   "execution_count": 22,
   "metadata": {},
   "outputs": [
    {
     "name": "stdout",
     "output_type": "stream",
     "text": [
      " ________________________\n",
      "|________PET STORE_______|\n",
      "A Dog would make a great pet\n",
      "A Cat would make a great pet\n",
      "A parrote would make a great pet\n"
     ]
    }
   ],
   "source": [
    "pets=[\"Dog\",\"Cat\",\"parrote\"]\n",
    "print(\" ________________________\")\n",
    "print(\"|________PET STORE_______|\")\n",
    "for pet in pets:\n",
    "    print(f\"A {pet} would make a great pet\")"
   ]
  },
  {
   "cell_type": "code",
   "execution_count": 24,
   "metadata": {},
   "outputs": [
    {
     "name": "stdout",
     "output_type": "stream",
     "text": [
      " ________________________\n",
      "|________PET STORE_______|\n",
      "\n",
      "A Dog would make a great pet\n",
      "A Cat would make a great pet\n",
      "A parrote would make a great pet\n",
      "\n",
      "These animals would make a great pet!\n"
     ]
    }
   ],
   "source": [
    "pets=[\"Dog\",\"Cat\",\"parrote\"]\n",
    "print(\" ________________________\")\n",
    "print(\"|________PET STORE_______|\\n\")\n",
    "for pet in pets:\n",
    "    print(f\"A {pet} would make a great pet\")\n",
    "    \n",
    "print(\"\\nThese animals would make a great pet!\")"
   ]
  },
  {
   "cell_type": "markdown",
   "metadata": {},
   "source": [
    "### 4-3. Counting to Twenty: Use a for loop to print the numbers from 1 to 20, inclusive.\n"
   ]
  },
  {
   "cell_type": "code",
   "execution_count": 25,
   "metadata": {},
   "outputs": [
    {
     "name": "stdout",
     "output_type": "stream",
     "text": [
      "1\n",
      "2\n",
      "3\n",
      "4\n",
      "5\n",
      "6\n",
      "7\n",
      "8\n",
      "9\n",
      "10\n",
      "11\n",
      "12\n",
      "13\n",
      "14\n",
      "15\n",
      "16\n",
      "17\n",
      "18\n",
      "19\n",
      "20\n"
     ]
    }
   ],
   "source": [
    "for number in range(1,21):\n",
    "    print(number)"
   ]
  },
  {
   "cell_type": "markdown",
   "metadata": {},
   "source": [
    "### 4-4. One Million: Make a list of the numbers from one to one million, and thenuse a for loop to print the numbers. "
   ]
  },
  {
   "cell_type": "code",
   "execution_count": 26,
   "metadata": {},
   "outputs": [],
   "source": [
    "one_million_numbers=list(range(1,10000001))"
   ]
  },
  {
   "cell_type": "markdown",
   "metadata": {},
   "source": [
    "### 4-5. Summing a Million: Make a list of the numbers from one to one million,and then use min() and max() to make sure your list actually starts at one and ends at one million. Also, use the sum() function to see how quickly Python can add a million numbers."
   ]
  },
  {
   "cell_type": "code",
   "execution_count": 27,
   "metadata": {},
   "outputs": [
    {
     "name": "stdout",
     "output_type": "stream",
     "text": [
      "Minimum Number 1\n",
      "Maximum Number 10000000\n",
      "Sum of all number 50000005000000\n"
     ]
    }
   ],
   "source": [
    "one_million_numbers=list(range(1,10000001))\n",
    "print(\"Minimum Number\",min(one_million_numbers))\n",
    "print(\"Maximum Number\",max(one_million_numbers))\n",
    "print(\"Sum of all number\",sum(one_million_numbers))"
   ]
  },
  {
   "cell_type": "markdown",
   "metadata": {},
   "source": [
    "### 4-6. Odd Numbers: Use the third argument of the range() function to make a list of the odd numbers from 1 to 20. Use a for loop to print each number.\n"
   ]
  },
  {
   "cell_type": "code",
   "execution_count": 29,
   "metadata": {},
   "outputs": [
    {
     "name": "stdout",
     "output_type": "stream",
     "text": [
      "1\n",
      "3\n",
      "5\n",
      "7\n",
      "9\n",
      "11\n",
      "13\n",
      "15\n",
      "17\n",
      "19\n"
     ]
    }
   ],
   "source": [
    "for number in range(1,21,2):\n",
    "    print(number)"
   ]
  },
  {
   "cell_type": "markdown",
   "metadata": {},
   "source": [
    "### 4-7. Threes: Make a list of the multiples of 3 from 3 to 30. Use a for loop to print the numbers in your list."
   ]
  },
  {
   "cell_type": "code",
   "execution_count": 36,
   "metadata": {},
   "outputs": [
    {
     "name": "stdout",
     "output_type": "stream",
     "text": [
      "3\n",
      "6\n",
      "9\n",
      "12\n",
      "15\n",
      "18\n",
      "21\n",
      "24\n",
      "27\n",
      "30\n"
     ]
    }
   ],
   "source": [
    "multiples_of_three_number=list(range(3,31,3))\n",
    "\n",
    "for number in multiples_of_three_number:\n",
    "    print(number)"
   ]
  },
  {
   "cell_type": "markdown",
   "metadata": {},
   "source": [
    "### 4-8. Cubes: A number raised to the third power is called a cube. For example,the cube of 2 is written as 2**3 in Python. Make a list of the first 10 cubes (that is, the cube of each integer from 1 through 10), and use a for loop to print outthe value of each cube."
   ]
  },
  {
   "cell_type": "code",
   "execution_count": 38,
   "metadata": {},
   "outputs": [
    {
     "name": "stdout",
     "output_type": "stream",
     "text": [
      "1\n",
      "8\n",
      "27\n",
      "64\n",
      "125\n",
      "216\n",
      "343\n",
      "512\n",
      "729\n",
      "1000\n"
     ]
    }
   ],
   "source": [
    "cubes=[]\n",
    "for number in range(1,11):\n",
    "    cube=number**3\n",
    "    cubes.append(cube)\n",
    "for num in cubes:\n",
    "    print(num)"
   ]
  },
  {
   "cell_type": "markdown",
   "metadata": {},
   "source": [
    "### 4-9. Cube Comprehension: Use a list comprehension to generate a list of the first 10 cubes."
   ]
  },
  {
   "cell_type": "code",
   "execution_count": 39,
   "metadata": {},
   "outputs": [
    {
     "name": "stdout",
     "output_type": "stream",
     "text": [
      "1\n",
      "8\n",
      "27\n",
      "64\n",
      "125\n",
      "216\n",
      "343\n",
      "512\n",
      "729\n",
      "1000\n"
     ]
    }
   ],
   "source": [
    "cubes=[number**3 for number in range(1,11)]\n",
    "\n",
    "for cube in cubes:\n",
    "    print(cube)"
   ]
  },
  {
   "cell_type": "markdown",
   "metadata": {},
   "source": [
    "### 4-10. Slices: Using one of the programs you wrote in this chapter, add several lines to the end of the program that do the following:\n",
    "<ul>\n",
    "<li>Print the message, The first three items in the list are:. Then use a slice to print the first three items from that program’s list.</li>\n",
    "<li>Print the message, Three items from the middle of the list are:. Use a slice to print three items from the middle of the list.</li> \n",
    "<li> Print the message, The last three items in the list are:. Use a slice to printthe last three items in the list.</li></ul>"
   ]
  },
  {
   "cell_type": "code",
   "execution_count": 50,
   "metadata": {},
   "outputs": [
    {
     "name": "stdout",
     "output_type": "stream",
     "text": [
      "First Three Number in:  [1, 2, 3]\n",
      "Mid Three Number in:  [4, 5, 6]\n",
      "Last Three Number in:  [7, 8, 9]\n"
     ]
    }
   ],
   "source": [
    "number=[num for num in range(1,11)]\n",
    "print(\"First Three Number in: \",number[:3])\n",
    "print(\"Mid Three Number in: \",number[3:6])\n",
    "print(\"Last Three Number in: \",number[-4:-1])"
   ]
  },
  {
   "cell_type": "markdown",
   "metadata": {},
   "source": [
    "### 4-11. My Pizzas, Your Pizzas: Start with your program from Exercise 4-1 (page 60). Make a copy of the list of pizzas, and call it friend_pizzas. Then, do the following:\n",
    "<ul>\n",
    "    <li>Add a new pizza to the original list.</li>\n",
    "    <li>Add a different pizza to the list friend_pizzas.</li>\n",
    "<li> Prove that you have two separate lists. Print the message, My favorite\n",
    "pizzas are:, and then use a for loop to print the first list. Print the message,\n",
    "My friend’s favorite pizzas are:, and then use a for loop to print the second list. Make sure each new pizza is stored in the appropriate list.</li>\n",
    "    </ul>"
   ]
  },
  {
   "cell_type": "code",
   "execution_count": 53,
   "metadata": {},
   "outputs": [],
   "source": [
    "pizza_names=[\"Pan Pizza\",\"Thin Crust Pizza\",\"New York Style Pizza\"]\n",
    "friend_pizza=pizza_names[:]\n",
    "pizza_names.append(\"meat lover's\")\n",
    "friend_pizza.append('pesto')"
   ]
  },
  {
   "cell_type": "code",
   "execution_count": 57,
   "metadata": {},
   "outputs": [
    {
     "name": "stdout",
     "output_type": "stream",
     "text": [
      "My Favorite Pizzas\n",
      " -Pan Pizza\n",
      " -Thin Crust Pizza\n",
      " -New York Style Pizza\n",
      " -meat lover's\n"
     ]
    }
   ],
   "source": [
    "print(\"My Favorite Pizzas\")\n",
    "for pizza in pizza_names:\n",
    "    print(f\" -{pizza}\")"
   ]
  },
  {
   "cell_type": "code",
   "execution_count": 58,
   "metadata": {},
   "outputs": [
    {
     "name": "stdout",
     "output_type": "stream",
     "text": [
      "My Friend's Favorite Pizzas\n",
      " -Pan Pizza\n",
      " -Thin Crust Pizza\n",
      " -New York Style Pizza\n",
      " -pesto\n"
     ]
    }
   ],
   "source": [
    "print(\"My Friend's Favorite Pizzas\")\n",
    "for pizza in friend_pizza:\n",
    "    print(f\" -{pizza}\")"
   ]
  },
  {
   "cell_type": "markdown",
   "metadata": {},
   "source": [
    "### 4-13. Buffet: A buffet-style restaurant offers only five basic foods. Think of five simple foods, and store them in a tuple.\n",
    "<ul>\n",
    "    <li>Use a for loop to print each food the restaurant offers.</li>\n",
    "    <li>Try to modify one of the items, and make sure that Python rejects the change.</li>\n",
    "<li>The restaurant changes its menu, replacing two of the items with different foods. Add a block of code that rewrites the tuple, and then use a for loop to print each of the items on the revised menu.</li>\n",
    "    </ul>"
   ]
  },
  {
   "cell_type": "code",
   "execution_count": 61,
   "metadata": {},
   "outputs": [],
   "source": [
    "buffets=(\"Qurma\",\"White Karhai\",\"Sandwish\",\"Chicken Mayoo Roll\",\"mutton\")\n"
   ]
  },
  {
   "cell_type": "code",
   "execution_count": 62,
   "metadata": {},
   "outputs": [
    {
     "name": "stdout",
     "output_type": "stream",
     "text": [
      "---------Our Today's Menu---------\n",
      " -Qurma\n",
      " -White Karhai\n",
      " -Sandwish\n",
      " -Chicken Mayoo Roll\n",
      " -mutton\n"
     ]
    }
   ],
   "source": [
    "print(\"---------Our Today's Menu---------\")\n",
    "for buffet in buffets:\n",
    "    print(f\" -{buffet}\")"
   ]
  },
  {
   "cell_type": "code",
   "execution_count": 63,
   "metadata": {},
   "outputs": [],
   "source": [
    "buffets=(\"Malai Botti\",\"White Karhai\",\"Biryani\",\"Chicken Mayoo Roll\",\"mutton\")\n"
   ]
  },
  {
   "cell_type": "code",
   "execution_count": 64,
   "metadata": {},
   "outputs": [
    {
     "name": "stdout",
     "output_type": "stream",
     "text": [
      "---------Our Today's Menu update---------\n",
      " -Malai Botti\n",
      " -White Karhai\n",
      " -Biryani\n",
      " -Chicken Mayoo Roll\n",
      " -mutton\n"
     ]
    }
   ],
   "source": [
    "print(\"---------Our Today's Menu update---------\")\n",
    "for buffet in buffets:\n",
    "    print(f\" -{buffet}\")"
   ]
  },
  {
   "cell_type": "code",
   "execution_count": null,
   "metadata": {},
   "outputs": [],
   "source": []
  }
 ],
 "metadata": {
  "kernelspec": {
   "display_name": "Python 3",
   "language": "python",
   "name": "python3"
  },
  "language_info": {
   "codemirror_mode": {
    "name": "ipython",
    "version": 3
   },
   "file_extension": ".py",
   "mimetype": "text/x-python",
   "name": "python",
   "nbconvert_exporter": "python",
   "pygments_lexer": "ipython3",
   "version": "3.8.5"
  }
 },
 "nbformat": 4,
 "nbformat_minor": 4
}
