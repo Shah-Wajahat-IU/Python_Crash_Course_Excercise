{
 "cells": [
  {
   "cell_type": "markdown",
   "metadata": {},
   "source": [
    "### 8-1. Message: Write a function called display_message() that prints one sentence telling everyone what you are learning about in this chapter. Call the function, and make sure the message displays correctly."
   ]
  },
  {
   "cell_type": "code",
   "execution_count": 2,
   "metadata": {},
   "outputs": [
    {
     "name": "stdout",
     "output_type": "stream",
     "text": [
      "Hello I am laerning about function.\n"
     ]
    }
   ],
   "source": [
    "def display_message():\n",
    "    msg = \"Hello I am laerning about function.\"\n",
    "    print(msg)\n",
    "\n",
    "display_message()"
   ]
  },
  {
   "cell_type": "markdown",
   "metadata": {},
   "source": [
    "### 8-2. Favorite Book: Write a function called favorite_book() that accepts one parameter, title. The function should print a message, such as One of my favorite books is Alice in Wonderland. Call the function, making sure to include a book title as an argument in the function call."
   ]
  },
  {
   "cell_type": "code",
   "execution_count": 3,
   "metadata": {},
   "outputs": [
    {
     "name": "stdout",
     "output_type": "stream",
     "text": [
      "Python Crash Course is one of my favorite books.\n"
     ]
    }
   ],
   "source": [
    "def favorite_book(title):\n",
    "    print(f\"{title} is one of my favorite books.\")\n",
    "\n",
    "favorite_book('Python Crash Course')"
   ]
  },
  {
   "cell_type": "markdown",
   "metadata": {},
   "source": [
    "### 8-3. T-Shirt: Write a function called make_shirt() that accepts a size and the text of a message that should be printed on the shirt. The function should print a sentence summarizing the size of the shirt and the message printed on it. Call the function once using positional arguments to make a shirt. Call thefunction a second time using keyword arguments."
   ]
  },
  {
   "cell_type": "code",
   "execution_count": 4,
   "metadata": {},
   "outputs": [
    {
     "name": "stdout",
     "output_type": "stream",
     "text": [
      "\n",
      "I'm going to make a large t-shirt.\n",
      "It will say, \"I love Python!\"\n",
      "\n",
      "I'm going to make a medium t-shirt.\n",
      "It will say, \"Readability counts.\"\n"
     ]
    }
   ],
   "source": [
    "def make_shirt(size, message):\n",
    "   \n",
    "    print(f\"\\nI'm going to make a {size} t-shirt.\")\n",
    "    print(f'It will say, \"{message}\"')\n",
    "\n",
    "make_shirt('large', 'I love Python!')\n",
    "make_shirt(message=\"Readability counts.\", size='medium')"
   ]
  },
  {
   "cell_type": "markdown",
   "metadata": {},
   "source": [
    "### 8-4. Large Shirts: Modify the make_shirt() function so that shirts are large by default with a message that reads I love Python. Make a large shirt and a medium shirt with the default message, and a shirt of any size with a different message."
   ]
  },
  {
   "cell_type": "code",
   "execution_count": 6,
   "metadata": {},
   "outputs": [
    {
     "name": "stdout",
     "output_type": "stream",
     "text": [
      "\n",
      "I'm going to make a large t-shirt.\n",
      "It will say, \"I love Python!\"\n",
      "\n",
      "I'm going to make a medium t-shirt.\n",
      "It will say, \"I love Python!\"\n",
      "\n",
      "I'm going to make a small t-shirt.\n",
      "It will say, \"Programmers are loopy.\"\n"
     ]
    }
   ],
   "source": [
    "def make_shirt(size='large', message='I love Python!'):\n",
    "    \n",
    "    print(f\"\\nI'm going to make a {size} t-shirt.\")\n",
    "    print(f'It will say, \"{message}\"')\n",
    "\n",
    "make_shirt()\n",
    "make_shirt(size='medium')\n",
    "make_shirt('small', 'Programmers are loopy.')"
   ]
  },
  {
   "cell_type": "markdown",
   "metadata": {},
   "source": [
    "### 8-5. Cities: Write a function called describe_city() that accepts the name of a city and its country. The function should print a simple sentence, such as Reykjavik is in Iceland. Give the parameter for the country a default value. Call your function for three different cities, at least one of which is not in the default country."
   ]
  },
  {
   "cell_type": "code",
   "execution_count": 8,
   "metadata": {},
   "outputs": [
    {
     "name": "stdout",
     "output_type": "stream",
     "text": [
      "Karachi is in Pakistan.\n",
      "Islamabad is in Pakistan.\n",
      "Lahore  is in Pakistan.\n"
     ]
    }
   ],
   "source": [
    "def describe_city(city, country='Pakistan'):\n",
    "    \"\"\"Describe a city.\"\"\"\n",
    "    msg = f\"{city.title()} is in {country.title()}.\"\n",
    "    print(msg)\n",
    "\n",
    "describe_city('karachi')\n",
    "describe_city('Islamabad', 'pakistan')\n",
    "describe_city('lahore ')"
   ]
  },
  {
   "cell_type": "code",
   "execution_count": null,
   "metadata": {},
   "outputs": [],
   "source": []
  },
  {
   "cell_type": "code",
   "execution_count": 9,
   "metadata": {},
   "outputs": [
    {
     "name": "stdout",
     "output_type": "stream",
     "text": [
      "Karachi, Pakistan\n",
      "Istambul, Turkey\n",
      "Makka, Saudia\n"
     ]
    }
   ],
   "source": [
    "def city_country(city, country):\n",
    "    \n",
    "    return f\"{city.title()}, {country.title()}\"\n",
    "\n",
    "city = city_country('Karachi', 'Pakistan')\n",
    "print(city)\n",
    "\n",
    "city = city_country('Istambul', 'Turkey')\n",
    "print(city)\n",
    "\n",
    "city = city_country('Makka', 'Saudia')\n",
    "print(city)"
   ]
  },
  {
   "cell_type": "code",
   "execution_count": null,
   "metadata": {},
   "outputs": [],
   "source": []
  },
  {
   "cell_type": "code",
   "execution_count": 10,
   "metadata": {},
   "outputs": [
    {
     "name": "stdout",
     "output_type": "stream",
     "text": [
      "{'artist': 'Metallica', 'title': 'Ride The Lightning'}\n",
      "{'artist': 'Beethoven', 'title': 'Ninth Symphony'}\n",
      "{'artist': 'Willie Nelson', 'title': 'Red-Headed Stranger'}\n"
     ]
    }
   ],
   "source": [
    "def make_album(artist, title):\n",
    "    \n",
    "    album_dict = {\n",
    "        'artist': artist.title(),\n",
    "        'title': title.title(),\n",
    "        }\n",
    "    return album_dict\n",
    "\n",
    "album = make_album('metallica', 'ride the lightning')\n",
    "print(album)\n",
    "\n",
    "album = make_album('beethoven', 'ninth symphony')\n",
    "print(album)\n",
    "\n",
    "album = make_album('willie nelson', 'red-headed stranger')\n",
    "print(album)"
   ]
  },
  {
   "cell_type": "code",
   "execution_count": 11,
   "metadata": {},
   "outputs": [
    {
     "name": "stdout",
     "output_type": "stream",
     "text": [
      "{'artist': 'Metallica', 'title': 'Ride The Lightning'}\n",
      "{'artist': 'Beethoven', 'title': 'Ninth Symphony'}\n",
      "{'artist': 'Willie Nelson', 'title': 'Red-Headed Stranger'}\n",
      "{'artist': 'Iron Maiden', 'title': 'Piece Of Mind', 'tracks': 8}\n"
     ]
    }
   ],
   "source": [
    "def make_album(artist, title, tracks=0):\n",
    "    \"\"\"Build a dictionary containing information about an album.\"\"\"\n",
    "    album_dict = {\n",
    "        'artist': artist.title(),\n",
    "        'title': title.title(),\n",
    "        }\n",
    "    if tracks:\n",
    "        album_dict['tracks'] = tracks\n",
    "    return album_dict\n",
    "\n",
    "album = make_album('metallica', 'ride the lightning')\n",
    "print(album)\n",
    "\n",
    "album = make_album('beethoven', 'ninth symphony')\n",
    "print(album)\n",
    "\n",
    "album = make_album('willie nelson', 'red-headed stranger')\n",
    "print(album)\n",
    "\n",
    "album = make_album('iron maiden', 'piece of mind', tracks=8)\n",
    "print(album)"
   ]
  },
  {
   "cell_type": "code",
   "execution_count": null,
   "metadata": {},
   "outputs": [],
   "source": []
  },
  {
   "cell_type": "code",
   "execution_count": 12,
   "metadata": {},
   "outputs": [
    {
     "name": "stdout",
     "output_type": "stream",
     "text": [
      "Enter 'quit' at any time to stop.\n",
      "\n",
      "What album are you thinking of? atif\n",
      "Who's the artist? atif\n",
      "{'artist': 'Atif', 'title': 'Atif'}\n",
      "\n",
      "What album are you thinking of? jazba\n",
      "Who's the artist? jawab\n",
      "{'artist': 'Jawab', 'title': 'Jazba'}\n",
      "\n",
      "What album are you thinking of? quit\n",
      "\n",
      "Thanks for responding!\n"
     ]
    }
   ],
   "source": [
    "def make_album(artist, title, tracks=0):\n",
    "    \"\"\"Build a dictionary containing information about an album.\"\"\"\n",
    "    album_dict = {\n",
    "        'artist': artist.title(),\n",
    "        'title': title.title(),\n",
    "        }\n",
    "    if tracks:\n",
    "        album_dict['tracks'] = tracks\n",
    "    return album_dict\n",
    "\n",
    "# Prepare the prompts.\n",
    "title_prompt = \"\\nWhat album are you thinking of? \"\n",
    "artist_prompt = \"Who's the artist? \"\n",
    "\n",
    "# Let the user know how to quit.\n",
    "print(\"Enter 'quit' at any time to stop.\")\n",
    "\n",
    "while True:\n",
    "    title = input(title_prompt)\n",
    "    if title == 'quit':\n",
    "        break\n",
    "    \n",
    "    artist = input(artist_prompt)\n",
    "    if artist == 'quit':\n",
    "        break\n",
    "\n",
    "    album = make_album(artist, title)\n",
    "    print(album)\n",
    "\n",
    "print(\"\\nThanks for responding!\")"
   ]
  },
  {
   "cell_type": "code",
   "execution_count": null,
   "metadata": {},
   "outputs": [],
   "source": []
  },
  {
   "cell_type": "code",
   "execution_count": 13,
   "metadata": {},
   "outputs": [
    {
     "name": "stdout",
     "output_type": "stream",
     "text": [
      "hello there\n",
      "how are u?\n",
      ":)\n"
     ]
    }
   ],
   "source": [
    "def show_messages(messages):\n",
    "    \n",
    "    for message in messages:\n",
    "        print(message)\n",
    "\n",
    "messages = [\"hello there\", \"how are u?\", \":)\"]\n",
    "show_messages(messages)"
   ]
  },
  {
   "cell_type": "code",
   "execution_count": null,
   "metadata": {},
   "outputs": [],
   "source": []
  },
  {
   "cell_type": "code",
   "execution_count": 14,
   "metadata": {},
   "outputs": [
    {
     "name": "stdout",
     "output_type": "stream",
     "text": [
      "Showing all messages:\n",
      "hello there\n",
      "how are u?\n",
      ":)\n",
      "\n",
      "Sending all messages:\n",
      ":)\n",
      "how are u?\n",
      "hello there\n",
      "\n",
      "Final lists:\n",
      "[]\n",
      "[':)', 'how are u?', 'hello there']\n"
     ]
    }
   ],
   "source": [
    "def show_messages(messages):\n",
    "    \"\"\"Print all messages in the list.\"\"\"\n",
    "    print(\"Showing all messages:\")\n",
    "    for message in messages:\n",
    "        print(message)\n",
    "\n",
    "def send_messages(messages, sent_messages):\n",
    "    \"\"\"Print each message, and then move it to sent_messages.\"\"\"\n",
    "    print(\"\\nSending all messages:\")\n",
    "    while messages:\n",
    "        current_message = messages.pop()\n",
    "        print(current_message)\n",
    "        sent_messages.append(current_message)\n",
    "\n",
    "messages = [\"hello there\", \"how are u?\", \":)\"]\n",
    "show_messages(messages)\n",
    "\n",
    "sent_messages = []\n",
    "send_messages(messages, sent_messages)\n",
    "\n",
    "print(\"\\nFinal lists:\")\n",
    "print(messages)\n",
    "print(sent_messages)"
   ]
  },
  {
   "cell_type": "code",
   "execution_count": null,
   "metadata": {},
   "outputs": [],
   "source": []
  },
  {
   "cell_type": "code",
   "execution_count": 15,
   "metadata": {},
   "outputs": [
    {
     "name": "stdout",
     "output_type": "stream",
     "text": [
      "Showing all messages:\n",
      "hello there\n",
      "how are u?\n",
      ":)\n",
      "\n",
      "Sending all messages:\n",
      ":)\n",
      "how are u?\n",
      "hello there\n",
      "\n",
      "Final lists:\n",
      "['hello there', 'how are u?', ':)']\n",
      "[':)', 'how are u?', 'hello there']\n"
     ]
    }
   ],
   "source": [
    "def show_messages(messages):\n",
    "    \"\"\"Print all messages in the list.\"\"\"\n",
    "    print(\"Showing all messages:\")\n",
    "    for message in messages:\n",
    "        print(message)\n",
    "\n",
    "def send_messages(messages, sent_messages):\n",
    "    \"\"\"Print each message, and then move it to sent_messages.\"\"\"\n",
    "    print(\"\\nSending all messages:\")\n",
    "    while messages:\n",
    "        current_message = messages.pop()\n",
    "        print(current_message)\n",
    "        sent_messages.append(current_message)\n",
    "\n",
    "messages = [\"hello there\", \"how are u?\", \":)\"]\n",
    "show_messages(messages)\n",
    "\n",
    "sent_messages = []\n",
    "send_messages(messages[:], sent_messages)\n",
    "\n",
    "print(\"\\nFinal lists:\")\n",
    "print(messages)\n",
    "print(sent_messages)"
   ]
  },
  {
   "cell_type": "markdown",
   "metadata": {},
   "source": [
    "### 8-12. Sandwiches: Write a function that accepts a list of items a person wants on a sandwich. The function should have one parameter that collects as many items as the function call provides, and it should print a summary of the sandwich that is being ordered. Call the function three times, using a different number of arguments each time."
   ]
  },
  {
   "cell_type": "code",
   "execution_count": 16,
   "metadata": {},
   "outputs": [
    {
     "name": "stdout",
     "output_type": "stream",
     "text": [
      "\n",
      "I'll make you a great sandwich:\n",
      "  ...adding roast beef to your sandwich.\n",
      "  ...adding cheddar cheese to your sandwich.\n",
      "  ...adding lettuce to your sandwich.\n",
      "  ...adding honey dijon to your sandwich.\n",
      "Your sandwich is ready!\n",
      "\n",
      "I'll make you a great sandwich:\n",
      "  ...adding turkey to your sandwich.\n",
      "  ...adding apple slices to your sandwich.\n",
      "  ...adding honey mustard to your sandwich.\n",
      "Your sandwich is ready!\n",
      "\n",
      "I'll make you a great sandwich:\n",
      "  ...adding peanut butter to your sandwich.\n",
      "  ...adding strawberry jam to your sandwich.\n",
      "Your sandwich is ready!\n"
     ]
    }
   ],
   "source": [
    "def make_sandwich(*items):\n",
    "    \"\"\"Make a sandwich with the given items.\"\"\"\n",
    "    print(\"\\nI'll make you a great sandwich:\")\n",
    "    for item in items:\n",
    "        print(f\"  ...adding {item} to your sandwich.\")\n",
    "    print(\"Your sandwich is ready!\")\n",
    "\n",
    "make_sandwich('roast beef', 'cheddar cheese', 'lettuce', 'honey dijon')\n",
    "make_sandwich('turkey', 'apple slices', 'honey mustard')\n",
    "make_sandwich('peanut butter', 'strawberry jam')"
   ]
  },
  {
   "cell_type": "markdown",
   "metadata": {},
   "source": [
    "### Write a function that stores information about a car in a dictionary. the function should always receive a manufacturer and a model name. It should then accept an arbitrary number of keyword arguments. Call the function with the required information and two other name-value pairs, such as a color or an optional feature. Your function should work for a call like this one: car = make_car('subaru', 'outback', color='blue', tow_package=True) Print the dictionary that’s returned to make sure all the information was stored correctly."
   ]
  },
  {
   "cell_type": "code",
   "execution_count": 17,
   "metadata": {},
   "outputs": [
    {
     "name": "stdout",
     "output_type": "stream",
     "text": [
      "{'manufacturer': 'Subaru', 'model': 'Outback', 'color': 'blue', 'tow_package': True}\n",
      "{'manufacturer': 'Honda', 'model': 'Accord', 'year': 1991, 'color': 'white', 'headlights': 'popup'}\n"
     ]
    }
   ],
   "source": [
    "def make_car(manufacturer, model, **options):\n",
    "    \"\"\"Make a dictionary representing a car.\"\"\"\n",
    "    car_dict = {\n",
    "        'manufacturer': manufacturer.title(),\n",
    "        'model': model.title(),\n",
    "        }\n",
    "    for option, value in options.items():\n",
    "        car_dict[option] = value\n",
    "\n",
    "    return car_dict\n",
    "\n",
    "my_outback = make_car('subaru', 'outback', color='blue', tow_package=True)\n",
    "print(my_outback)\n",
    "\n",
    "my_old_accord = make_car('honda', 'accord', year=1991, color='white',\n",
    "        headlights='popup')\n",
    "print(my_old_accord)"
   ]
  },
  {
   "cell_type": "code",
   "execution_count": null,
   "metadata": {},
   "outputs": [],
   "source": []
  },
  {
   "cell_type": "code",
   "execution_count": 18,
   "metadata": {},
   "outputs": [],
   "source": [
    "def print_models(unprinted_designs, completed_models):\n",
    "    \"\"\"\n",
    "    Simulate printing each design, until there are none left.\n",
    "    Move each design to completed_models after printing.\n",
    "    \"\"\"\n",
    "    while unprinted_designs:\n",
    "        current_design = unprinted_designs.pop()\n",
    "    \n",
    "        # Simulate creating a 3d print from the design.\n",
    "        print(f\"Printing model: {current_design}\")\n",
    "        completed_models.append(current_design)\n",
    "        \n",
    "def show_completed_models(completed_models):\n",
    "    \"\"\"Show all the models that were printed.\"\"\"\n",
    "    print(\"\\nThe following models have been printed:\")\n",
    "    for completed_model in completed_models:\n",
    "        print(completed_model)"
   ]
  },
  {
   "cell_type": "code",
   "execution_count": null,
   "metadata": {},
   "outputs": [],
   "source": []
  }
 ],
 "metadata": {
  "kernelspec": {
   "display_name": "Python 3",
   "language": "python",
   "name": "python3"
  },
  "language_info": {
   "codemirror_mode": {
    "name": "ipython",
    "version": 3
   },
   "file_extension": ".py",
   "mimetype": "text/x-python",
   "name": "python",
   "nbconvert_exporter": "python",
   "pygments_lexer": "ipython3",
   "version": "3.8.5"
  }
 },
 "nbformat": 4,
 "nbformat_minor": 4
}
