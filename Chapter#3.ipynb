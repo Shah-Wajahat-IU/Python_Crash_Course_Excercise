{
 "cells": [
  {
   "cell_type": "markdown",
   "metadata": {},
   "source": [
    "### 3-1. Names: Store the names of a few of your friends in a list called names. Print each person’s name by accessing each element in the list, one at a time"
   ]
  },
  {
   "cell_type": "code",
   "execution_count": 1,
   "metadata": {},
   "outputs": [],
   "source": [
    "names=[\"Haris\",\"Hamza\",\"Saleem\"]"
   ]
  },
  {
   "cell_type": "code",
   "execution_count": 2,
   "metadata": {},
   "outputs": [
    {
     "name": "stdout",
     "output_type": "stream",
     "text": [
      "Haris\n",
      "Hamza\n",
      "Saleem\n"
     ]
    }
   ],
   "source": [
    "for name in names:\n",
    "    print(name)"
   ]
  },
  {
   "cell_type": "markdown",
   "metadata": {},
   "source": [
    "### 3-2. Greetings: Start with the list you used in Exercise 3-1, but instead of just printing each person’s name, print a message to them. The text of each message should be the same, but each message should be personalized with the person’s name"
   ]
  },
  {
   "cell_type": "code",
   "execution_count": 3,
   "metadata": {},
   "outputs": [],
   "source": [
    "names=[\"Haris\",\"Hamza\",\"Saleem\"]"
   ]
  },
  {
   "cell_type": "code",
   "execution_count": 4,
   "metadata": {},
   "outputs": [
    {
     "name": "stdout",
     "output_type": "stream",
     "text": [
      "Hello Haris welcome to the python Class\n",
      "Hello Hamza welcome to the python Class\n",
      "Hello Saleem welcome to the python Class\n"
     ]
    }
   ],
   "source": [
    "for name in names:\n",
    "    print(f\"Hello {name} welcome to the python Class\")"
   ]
  },
  {
   "cell_type": "markdown",
   "metadata": {},
   "source": [
    "### 3-3. Your Own List: Think of your favorite mode of transportation, such as a motorcycle or a car, and make a list that stores several examples. Use your list to print a series of statements about these items, such as “I would like to own a Honda motorcycle.”"
   ]
  },
  {
   "cell_type": "code",
   "execution_count": 5,
   "metadata": {},
   "outputs": [],
   "source": [
    "bikes=[\"Honda\",\"Suzuki\",\"Yamaha\"]\n"
   ]
  },
  {
   "cell_type": "code",
   "execution_count": 9,
   "metadata": {},
   "outputs": [
    {
     "name": "stdout",
     "output_type": "stream",
     "text": [
      "I would to ride Honda\n",
      "Suzuki started manufacturing motorcycles in 1952\n",
      "Yamaha is a Japanese manufacturer of motorcycles\n"
     ]
    }
   ],
   "source": [
    "print(f\"I would to ride {bikes[0]}\")\n",
    "print(f\"{bikes[1]} started manufacturing motorcycles in 1952\")\n",
    "print(f\"{bikes[2]} is a Japanese manufacturer of motorcycles\")"
   ]
  },
  {
   "cell_type": "markdown",
   "metadata": {},
   "source": [
    "### 3-4. Guest List: If you could invite anyone, living or deceased, to dinner, who would you invite? Make a list that includes at least three people you’d like to invite to dinner. Then use your list to print a message to each person, inviting them to dinner"
   ]
  },
  {
   "cell_type": "code",
   "execution_count": 10,
   "metadata": {},
   "outputs": [
    {
     "name": "stdout",
     "output_type": "stream",
     "text": [
      " Mr/Miss Ali I would like to Invite to my party\n",
      " Mr/Miss Kamran I would like to Invite to my party\n",
      " Mr/Miss Junaid I would like to Invite to my party\n"
     ]
    }
   ],
   "source": [
    "guests=[\"Ali\",\"Kamran\",\"Junaid\"]\n",
    "for guest in guests:\n",
    "    print(f\" Mr/Miss {guest} I would like to Invite to my party\")"
   ]
  },
  {
   "cell_type": "markdown",
   "metadata": {},
   "source": [
    "### 3-5. Changing Guest List: You just heard that one of your guests can’t make the dinner, so you need to send out a new set of invitations. You’ll have to think of someone else to invite.\n",
    "<ul>\n",
    "    <li> Start with your program from Exercise 3-4. Add a print statement at the end of your program stating the name of the guest who can’t make it.</li>\n",
    "   <li>Modify your list, replacing the name of the guest who can’t make it with the name of the new person you are inviting.</li>\n",
    "<li>Print a second set of invitation messages, one for each person who is still in your list.</li>\n",
    "</ul>"
   ]
  },
  {
   "cell_type": "code",
   "execution_count": 6,
   "metadata": {},
   "outputs": [
    {
     "name": "stdout",
     "output_type": "stream",
     "text": [
      "Ali Please Come to dinner\n",
      "Kamran Please Come to dinner\n",
      "Junaid Please not Come to dinner\n"
     ]
    }
   ],
   "source": [
    "guests=[\"Ali\",\"Kamran\",\"Junaid\"]\n",
    "\n",
    "print(f\"{guests[0]} Please Come to dinner\")\n",
    "print(f\"{guests[1]} Please Come to dinner\")\n",
    "print(f\"{guests[2]} Please not Come to dinner\")\n",
    "\n",
    "del(guests[2])\n",
    "guests.insert(1,\"Shahbaz\")"
   ]
  },
  {
   "cell_type": "code",
   "execution_count": 7,
   "metadata": {},
   "outputs": [
    {
     "name": "stdout",
     "output_type": "stream",
     "text": [
      "Ali Please Come to dinner\n",
      "Shahbaz Please Come to dinner\n",
      "Kamran Please not Come to dinner\n"
     ]
    }
   ],
   "source": [
    "print(f\"{guests[0]} Please Come to dinner\")\n",
    "print(f\"{guests[1]} Please Come to dinner\")\n",
    "print(f\"{guests[2]} Please not Come to dinner\")"
   ]
  },
  {
   "cell_type": "markdown",
   "metadata": {},
   "source": [
    "### 3-6. More Guests: You just found a bigger dinner table, so now more space is available. Think of three more guests to invite to dinner.\n",
    "<ul>\n",
    "    <li>Start with your program from Exercise 3-4 or Exercise 3-5. Add a print statement to the end of your program informing people that you found a bigger dinner table.</li>\n",
    "    <li>Use insert() to add one new guest to the beginning of your list.</li>\n",
    "    <li>Use insert() to add one new guest to the middle of your list.</li>\n",
    "    <li>Use append() to add one new guest to the end of your list.</li>\n",
    "    <li>Print a new set of invitation messages, one for each person in your list.</li>\n",
    "    </ul>"
   ]
  },
  {
   "cell_type": "code",
   "execution_count": 34,
   "metadata": {},
   "outputs": [
    {
     "name": "stdout",
     "output_type": "stream",
     "text": [
      "We got a bigger table!\n",
      "\n",
      "Haris please i would like to invit to dinner\n",
      "Ali please i would like to invit to dinner\n",
      "Jalees please i would like to invit to dinner\n",
      "Kamran please i would like to invit to dinner\n",
      "Junaid please i would like to invit to dinner\n",
      "Saleem please i would like to invit to dinner\n"
     ]
    }
   ],
   "source": [
    "guests=[\"Ali\",\"Kamran\",\"Junaid\"]\n",
    "print(\"We got a bigger table!\\n\")\n",
    "guests.insert(0,\"Haris\")\n",
    "guests.insert(2,\"Jalees\")\n",
    "guests.append(\"Saleem\")\n",
    "for guest in guests:\n",
    "    print(f\"{guest} please i would like to invit to dinner\")"
   ]
  },
  {
   "cell_type": "markdown",
   "metadata": {},
   "source": [
    "### 3-7. Shrinking Guest List: You just found out that your new dinner table won’t arrive in time for the dinner, and you have space for only two guests.\n",
    "<ul><li>Start with your program from Exercise 3-6. Add a new line that prints a\n",
    "message saying that you can invite only two people for dinner</li>\n",
    "<li> Use pop() to remove guests from your list one at a time until only two\n",
    "names remain in your list. Each time you pop a name from your list, print\n",
    "a message to that person letting them know you’re sorry you can’t invite\n",
    "them to dinner.</li>\n",
    "<li>Use del to remove the last two names from your list, so you have an empty\n",
    "list. Print your list to make sure you actually have an empty list at the end\n",
    "of your program</li> </ul>"
   ]
  },
  {
   "cell_type": "code",
   "execution_count": 35,
   "metadata": {},
   "outputs": [
    {
     "name": "stdout",
     "output_type": "stream",
     "text": [
      "['Haris', 'Ali', 'Jalees', 'Kamran', 'Junaid', 'Saleem']\n"
     ]
    }
   ],
   "source": [
    "print(guests)"
   ]
  },
  {
   "cell_type": "code",
   "execution_count": 36,
   "metadata": {},
   "outputs": [
    {
     "name": "stdout",
     "output_type": "stream",
     "text": [
      " I am sorry Saleem there is no seat\n"
     ]
    }
   ],
   "source": [
    "name=guests.pop()\n",
    "print(f\" I am sorry {name.title()} there is no seat\")"
   ]
  },
  {
   "cell_type": "code",
   "execution_count": 37,
   "metadata": {},
   "outputs": [
    {
     "name": "stdout",
     "output_type": "stream",
     "text": [
      " I am sorry Junaid there is no seat\n"
     ]
    }
   ],
   "source": [
    "name=guests.pop()\n",
    "print(f\" I am sorry {name.title()} there is no seat\")"
   ]
  },
  {
   "cell_type": "code",
   "execution_count": 38,
   "metadata": {},
   "outputs": [
    {
     "name": "stdout",
     "output_type": "stream",
     "text": [
      " I am sorry Kamran there is no seat\n"
     ]
    }
   ],
   "source": [
    "name=guests.pop()\n",
    "print(f\" I am sorry {name.title()} there is no seat\")\n"
   ]
  },
  {
   "cell_type": "code",
   "execution_count": 39,
   "metadata": {},
   "outputs": [
    {
     "name": "stdout",
     "output_type": "stream",
     "text": [
      " I am sorry Jalees there is no seat\n"
     ]
    }
   ],
   "source": [
    "name=guests.pop()\n",
    "print(f\" I am sorry {name.title()} there is no seat\")"
   ]
  },
  {
   "cell_type": "code",
   "execution_count": 40,
   "metadata": {},
   "outputs": [
    {
     "name": "stdout",
     "output_type": "stream",
     "text": [
      "Haris please i would like to invit to dinner\n",
      "Ali please i would like to invit to dinner\n"
     ]
    }
   ],
   "source": [
    "for guest in guests:\n",
    "    print(f\"{guest} please i would like to invit to dinner\")"
   ]
  },
  {
   "cell_type": "code",
   "execution_count": 41,
   "metadata": {},
   "outputs": [],
   "source": [
    "del(guests[0])\n",
    "del(guests[0])"
   ]
  },
  {
   "cell_type": "code",
   "execution_count": 42,
   "metadata": {},
   "outputs": [
    {
     "name": "stdout",
     "output_type": "stream",
     "text": [
      "[]\n"
     ]
    }
   ],
   "source": [
    "print(guests)"
   ]
  },
  {
   "cell_type": "markdown",
   "metadata": {},
   "source": [
    "### 3-8. Seeing the World: Think of at least five places in the world you’d like to visit.\n",
    "<ul>\n",
    "<li> Store the locations in a list. Make sure the list is not in alphabetical order.</li>\n",
    "<li>Print your list in its original order. Don’t worry about printing the list neatly,\n",
    "just print it as a raw Python list.</li>\n",
    "<li>Use sorted() to print your list in alphabetical order without modifying the actual list.</li>\n",
    "<li>Show that your list is still in its original order by printing it.</li>\n",
    "<li>Use sorted() to print your list in reverse alphabetical order without changing the order of the original list.</li>\n",
    "<li>Show that your list is still in its original order by printing it again.</li>\n",
    "<li>Use reverse() to change the order of your list. Print the list to show that its order has changed</li>\n",
    "<li>Use reverse() to change the order of your list again. Print the list to show\n",
    "it’s back to its original order.</li>\n",
    "<li> Use sort() to change your list so it’s stored in alphabetical order. Print thelist to show that its order has been changed.</li>\n",
    "<li>Use sort() to change your list so it’s stored in reverse alphabetical order. Print the list to show that its order has changed.</li>\n",
    "\n",
    "</ul>"
   ]
  },
  {
   "cell_type": "code",
   "execution_count": 43,
   "metadata": {},
   "outputs": [],
   "source": [
    "location=[\"Makka\",\"Turkey\",\"Phalestine\",\"Kasmir\",\"Madina\"]"
   ]
  },
  {
   "cell_type": "code",
   "execution_count": 52,
   "metadata": {},
   "outputs": [
    {
     "name": "stdout",
     "output_type": "stream",
     "text": [
      "Original list\n",
      "['Makka', 'Turkey', 'Phalestine', 'Kasmir', 'Madina']\n"
     ]
    }
   ],
   "source": [
    "print(\"Original list\")\n",
    "print(location)"
   ]
  },
  {
   "cell_type": "code",
   "execution_count": 53,
   "metadata": {},
   "outputs": [
    {
     "name": "stdout",
     "output_type": "stream",
     "text": [
      "Soeted Original list without chnage original list\n",
      "['Kasmir', 'Madina', 'Makka', 'Phalestine', 'Turkey']\n"
     ]
    }
   ],
   "source": [
    "print(\"Soeted Original list without chnage original list\")\n",
    "print(sorted(location))"
   ]
  },
  {
   "cell_type": "code",
   "execution_count": 54,
   "metadata": {},
   "outputs": [
    {
     "name": "stdout",
     "output_type": "stream",
     "text": [
      "Original list\n",
      "['Makka', 'Turkey', 'Phalestine', 'Kasmir', 'Madina']\n"
     ]
    }
   ],
   "source": [
    "print(\"Original list\")\n",
    "print(location)"
   ]
  },
  {
   "cell_type": "code",
   "execution_count": 56,
   "metadata": {},
   "outputs": [
    {
     "name": "stdout",
     "output_type": "stream",
     "text": [
      "Reverse order Alphabetic\n",
      "['Turkey', 'Phalestine', 'Makka', 'Madina', 'Kasmir']\n"
     ]
    }
   ],
   "source": [
    "print(\"Reverse order Alphabetic\")\n",
    "print(sorted(location,reverse=True))"
   ]
  },
  {
   "cell_type": "code",
   "execution_count": 57,
   "metadata": {},
   "outputs": [
    {
     "name": "stdout",
     "output_type": "stream",
     "text": [
      "\n",
      "Original order:\n",
      "['Makka', 'Turkey', 'Phalestine', 'Kasmir', 'Madina']\n"
     ]
    }
   ],
   "source": [
    "print(\"\\nOriginal order:\")\n",
    "print(location)"
   ]
  },
  {
   "cell_type": "code",
   "execution_count": 58,
   "metadata": {},
   "outputs": [
    {
     "name": "stdout",
     "output_type": "stream",
     "text": [
      "\n",
      "Reversed:\n",
      "['Madina', 'Kasmir', 'Phalestine', 'Turkey', 'Makka']\n"
     ]
    }
   ],
   "source": [
    "print(\"\\nReversed:\")\n",
    "location.reverse()\n",
    "print(location)"
   ]
  },
  {
   "cell_type": "code",
   "execution_count": 59,
   "metadata": {},
   "outputs": [
    {
     "name": "stdout",
     "output_type": "stream",
     "text": [
      "\n",
      "Original order:\n",
      "['Makka', 'Turkey', 'Phalestine', 'Kasmir', 'Madina']\n"
     ]
    }
   ],
   "source": [
    "print(\"\\nOriginal order:\")\n",
    "location.reverse()\n",
    "print(location)"
   ]
  },
  {
   "cell_type": "code",
   "execution_count": 60,
   "metadata": {},
   "outputs": [
    {
     "name": "stdout",
     "output_type": "stream",
     "text": [
      "\n",
      "Alphabetical\n",
      "['Kasmir', 'Madina', 'Makka', 'Phalestine', 'Turkey']\n"
     ]
    }
   ],
   "source": [
    "print(\"\\nAlphabetical\")\n",
    "location.sort()\n",
    "print(location)"
   ]
  },
  {
   "cell_type": "code",
   "execution_count": 61,
   "metadata": {},
   "outputs": [
    {
     "name": "stdout",
     "output_type": "stream",
     "text": [
      "\n",
      "Reverse alphabetical\n",
      "['Turkey', 'Phalestine', 'Makka', 'Madina', 'Kasmir']\n"
     ]
    }
   ],
   "source": [
    "print(\"\\nReverse alphabetical\")\n",
    "location.sort(reverse=True)\n",
    "print(location)"
   ]
  },
  {
   "cell_type": "markdown",
   "metadata": {},
   "source": [
    "### 3-11. Intentional Error: If you haven’t received an index error in one of your programs yet, try to make one happen. Change an index in one of your programs to produce an index error. Make sure you correct the error before closing the program"
   ]
  },
  {
   "cell_type": "code",
   "execution_count": 62,
   "metadata": {},
   "outputs": [
    {
     "ename": "IndexError",
     "evalue": "list index out of range",
     "output_type": "error",
     "traceback": [
      "\u001b[1;31m---------------------------------------------------------------------------\u001b[0m",
      "\u001b[1;31mIndexError\u001b[0m                                Traceback (most recent call last)",
      "\u001b[1;32m<ipython-input-62-9811709cfb18>\u001b[0m in \u001b[0;36m<module>\u001b[1;34m\u001b[0m\n\u001b[0;32m      1\u001b[0m \u001b[0mmotorcycles\u001b[0m \u001b[1;33m=\u001b[0m \u001b[1;33m[\u001b[0m\u001b[1;34m'honda'\u001b[0m\u001b[1;33m,\u001b[0m \u001b[1;34m'yamaha'\u001b[0m\u001b[1;33m,\u001b[0m \u001b[1;34m'suzuki'\u001b[0m\u001b[1;33m]\u001b[0m\u001b[1;33m\u001b[0m\u001b[1;33m\u001b[0m\u001b[0m\n\u001b[1;32m----> 2\u001b[1;33m \u001b[0mprint\u001b[0m\u001b[1;33m(\u001b[0m\u001b[0mmotorcycles\u001b[0m\u001b[1;33m[\u001b[0m\u001b[1;36m3\u001b[0m\u001b[1;33m]\u001b[0m\u001b[1;33m)\u001b[0m\u001b[1;33m\u001b[0m\u001b[1;33m\u001b[0m\u001b[0m\n\u001b[0m",
      "\u001b[1;31mIndexError\u001b[0m: list index out of range"
     ]
    }
   ],
   "source": [
    "motorcycles = ['honda', 'yamaha', 'suzuki']\n",
    "print(motorcycles[3])"
   ]
  },
  {
   "cell_type": "code",
   "execution_count": null,
   "metadata": {},
   "outputs": [],
   "source": []
  }
 ],
 "metadata": {
  "kernelspec": {
   "display_name": "Python 3",
   "language": "python",
   "name": "python3"
  },
  "language_info": {
   "codemirror_mode": {
    "name": "ipython",
    "version": 3
   },
   "file_extension": ".py",
   "mimetype": "text/x-python",
   "name": "python",
   "nbconvert_exporter": "python",
   "pygments_lexer": "ipython3",
   "version": "3.8.5"
  }
 },
 "nbformat": 4,
 "nbformat_minor": 4
}
