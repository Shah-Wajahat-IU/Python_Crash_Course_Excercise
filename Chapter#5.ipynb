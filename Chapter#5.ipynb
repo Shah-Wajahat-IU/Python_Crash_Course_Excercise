{
 "cells": [
  {
   "cell_type": "markdown",
   "metadata": {},
   "source": [
    "### 5-1. Conditional Tests: Write a series of conditional tests. Print a statementdescribing each test and your prediction for the results of each test. Your code should look something like this:"
   ]
  },
  {
   "cell_type": "code",
   "execution_count": 1,
   "metadata": {},
   "outputs": [
    {
     "name": "stdout",
     "output_type": "stream",
     "text": [
      "Is car == 'subaru'? I predict True.\n",
      "True\n",
      "\n",
      "Is car == 'audi'? I predict False.\n",
      "False\n"
     ]
    }
   ],
   "source": [
    "car = 'subaru'\n",
    "print(\"Is car == 'subaru'? I predict True.\")\n",
    "print(car == 'subaru')\n",
    "print(\"\\nIs car == 'audi'? I predict False.\")\n",
    "print(car == 'audi')"
   ]
  },
  {
   "cell_type": "markdown",
   "metadata": {},
   "source": [
    "### 5-3. Alien Colors #1: Imagine an alien was just shot down in a game. Create a variable called alien_color and assign it a value of 'green', 'yellow', or 'red'.\n",
    "<ul>\n",
    "    <li>Write an if statement to test whether the alien’s color is green. If it is, print\n",
    "        a message that the player just earned 5 points.</li>\n",
    "    <li>Write one version of this program that passes the if test and another that\n",
    "        fails. (The version that fails will have no output.)</li>\n",
    "</ul>"
   ]
  },
  {
   "cell_type": "code",
   "execution_count": 4,
   "metadata": {},
   "outputs": [
    {
     "name": "stdout",
     "output_type": "stream",
     "text": [
      "The player just earned 5 points\n"
     ]
    }
   ],
   "source": [
    "alien_color='green'\n",
    "if alien_color=='green':\n",
    "    print(\"The player just earned 5 points\")"
   ]
  },
  {
   "cell_type": "code",
   "execution_count": 5,
   "metadata": {},
   "outputs": [],
   "source": [
    "if alien_color=='yellow':\n",
    "    print(\"The player just earned 5 points\")"
   ]
  },
  {
   "cell_type": "markdown",
   "metadata": {},
   "source": [
    "### 5-4. Alien Colors #2: Choose a color for an alien as you did in Exercise 5-3, and write an if-else chain.\n",
    "<ul> \n",
    "    <li>If the alien’s color is green, print a statement that the player just earned\n",
    "        5 points for shooting the alien.</li>\n",
    "    <li>If the alien’s color isn’t green, print a statement that the player just earned\n",
    "        10 points.</li>\n",
    "    <li>Write one version of this program that runs the if block and another that\n",
    "        runs the else block.</li>\n",
    "</ul>"
   ]
  },
  {
   "cell_type": "code",
   "execution_count": 6,
   "metadata": {},
   "outputs": [
    {
     "name": "stdout",
     "output_type": "stream",
     "text": [
      "The player just earned 5 points\n"
     ]
    }
   ],
   "source": [
    "alien_color='green'\n",
    "if alien_color=='green':\n",
    "    print(\"The player just earned 5 points\")\n",
    "else:\n",
    "    print(\"The player just earned 10 points\")"
   ]
  },
  {
   "cell_type": "code",
   "execution_count": 7,
   "metadata": {},
   "outputs": [
    {
     "name": "stdout",
     "output_type": "stream",
     "text": [
      "The player just earned 10 points\n"
     ]
    }
   ],
   "source": [
    "alien_color='red'\n",
    "if alien_color=='green':\n",
    "    print(\"The player just earned 5 points\")\n",
    "else:\n",
    "    print(\"The player just earned 10 points\")"
   ]
  },
  {
   "cell_type": "markdown",
   "metadata": {},
   "source": [
    "### 5-5. Alien Colors #3: Turn your if-else chain from Exercise 5-4 into an if-elifelse chain.\n",
    "<ul> \n",
    "<li>If the alien is green, print a message that the player earned 5 points.</li>\n",
    "    <li>If the alien is yellow, print a message that the player earned 10 points.</li>\n",
    "    <li> If the alien is red, print a message that the player earned 15 points.</li>\n",
    "<li> Write three versions of this program, making sure each message is printed\n",
    "    for the appropriate color alien.</li>\n",
    "</ul>"
   ]
  },
  {
   "cell_type": "code",
   "execution_count": 8,
   "metadata": {},
   "outputs": [
    {
     "name": "stdout",
     "output_type": "stream",
     "text": [
      "The player just earned 15 points\n"
     ]
    }
   ],
   "source": [
    "alien_color='green'\n",
    "if alien_color=='green':\n",
    "    print(\"The player just earned 5 points\")\n",
    "elif alien_color=='yellow':\n",
    "    print(\"The player just earned 10 points\")\n",
    "else:\n",
    "     print(\"The player just earned 15 points\")"
   ]
  },
  {
   "cell_type": "code",
   "execution_count": 10,
   "metadata": {},
   "outputs": [
    {
     "name": "stdout",
     "output_type": "stream",
     "text": [
      "The player just earned 10 points\n"
     ]
    }
   ],
   "source": [
    "alien_color='yellow'\n",
    "if alien_color=='green':\n",
    "    print(\"The player just earned 5 points\")\n",
    "elif alien_color=='yellow':\n",
    "    print(\"The player just earned 10 points\")\n",
    "else:\n",
    "     print(\"The player just earned 15 points\")"
   ]
  },
  {
   "cell_type": "code",
   "execution_count": 11,
   "metadata": {},
   "outputs": [
    {
     "name": "stdout",
     "output_type": "stream",
     "text": [
      "The player just earned 15 points\n"
     ]
    }
   ],
   "source": [
    "alien_color='red'\n",
    "if alien_color=='green':\n",
    "    print(\"The player just earned 5 points\")\n",
    "elif alien_color=='yellow':\n",
    "    print(\"The player just earned 10 points\")\n",
    "else:\n",
    "     print(\"The player just earned 15 points\")"
   ]
  },
  {
   "cell_type": "markdown",
   "metadata": {},
   "source": [
    "### 5-6. Stages of Life: Write an if-elif-else chain that determines a person’s stage of life. Set a value for the variable age, and then:\n",
    "<ul>\t<li> If the person is less than 2 years old, print a message that the person is\n",
    "    a baby.</li>\n",
    "\t <li>If the person is at least 2 years old but less than 4, print a message that\n",
    "    the person is a toddler.</li>\n",
    "\t <li>If the person is at least 4 years old but less than 13, print a message that\n",
    "    the person is a kid.</li>\n",
    "<li>\t If the person is at least 13 years old but less than 20, print a message that\n",
    "    the person is a teenager.</li>\n",
    "<li> If the person is at least 20 years old but less than 65, print a message that\n",
    "    the person is an adult.</li>\n",
    "<li> If the person is age 65 or older, print a message that the person is an\n",
    "elder</li>\n",
    "    </ul>"
   ]
  },
  {
   "cell_type": "code",
   "execution_count": 12,
   "metadata": {},
   "outputs": [
    {
     "name": "stdout",
     "output_type": "stream",
     "text": [
      "You're an adult!\n"
     ]
    }
   ],
   "source": [
    "age = 24\n",
    "\n",
    "if age < 2:\n",
    "    print(\"You're a baby!\")\n",
    "elif age < 4:\n",
    "    print(\"You're a toddler!\")\n",
    "elif age < 13:\n",
    "    print(\"You're a kid!\")\n",
    "elif age < 20:\n",
    "    print(\"You're a teenager!\")\n",
    "elif age < 65:\n",
    "    print(\"You're an adult!\")\n",
    "else:\n",
    "    print(\"You're an elder!\")"
   ]
  },
  {
   "cell_type": "markdown",
   "metadata": {},
   "source": [
    "### 5-7. Favorite Fruit: Make a list of your favorite fruits, and then write a series of independent if statements that check for certain fruits in your list.\n",
    "<ul> \n",
    "    <li>Make a list of your three favorite fruits and call it favorite_fruits.</li>\n",
    "    <li> Write five if statements. Each should check whether a certain kind of fruit is in your list. If the fruit is in your list, the if block should print a statement,\n",
    "such as You really like bananas!</li>\n",
    "\n",
    "</ul>"
   ]
  },
  {
   "cell_type": "code",
   "execution_count": 1,
   "metadata": {},
   "outputs": [
    {
     "name": "stdout",
     "output_type": "stream",
     "text": [
      "You really like bananas!\n",
      "You really like apple !\n",
      "You really like mango !\n"
     ]
    }
   ],
   "source": [
    "favorite_fruit=[\"apple\",\"banana\",\"mango\"]\n",
    "if \"banana\" in favorite_fruit:\n",
    "    print(\"You really like bananas!\")\n",
    "if \"cheery\" in favorite_fruit:\n",
    "    print(\"You really like Cheery!\")\n",
    "if \"pineapple\" in favorite_fruit:\n",
    "    print(\"You really like pineapple!\")\n",
    "if \"apple\" in favorite_fruit:\n",
    "    print(\"You really like apple !\")\n",
    "if \"mango\" in favorite_fruit:\n",
    "    print(\"You really like mango !\")"
   ]
  },
  {
   "cell_type": "markdown",
   "metadata": {},
   "source": [
    "### 5-8. Hello Admin: Make a list of five or more usernames, including the name 'admin'. Imagine you are writing code that will print a greeting to each user after they log in to a website. Loop through the list, and print a greeting to each user:\n",
    "<ul>\n",
    "    <li>If the username is 'admin', print a special greeting, such as Hello admin,would you like to see a status report?</li>\n",
    "    <li>Otherwise, print a generic greeting, such as Hello Eric, thank you for logging in again.</li>\n",
    " </ul>"
   ]
  },
  {
   "cell_type": "code",
   "execution_count": 2,
   "metadata": {},
   "outputs": [
    {
     "name": "stdout",
     "output_type": "stream",
     "text": [
      "Hello ali \n",
      "Hello Shaheed \n",
      "Hello admin,would you like to see a status report\n",
      "Hello junaid \n",
      "Hello atif \n"
     ]
    }
   ],
   "source": [
    "users=[\"ali\",\"Shaheed\",\"admin\",\"junaid\",\"atif\"]\n",
    "for user in users:\n",
    "    if user ==\"admin\":\n",
    "        print(f\"Hello {user},would you like to see a status report\")\n",
    "    else:\n",
    "        print(f\"Hello {user} \")"
   ]
  },
  {
   "cell_type": "markdown",
   "metadata": {},
   "source": [
    "### 5-9. No Users: Add an if test to hello_admin.py to make sure the list of users is not empty.\n",
    "<ul>\n",
    "    <li>If the list is empty, print the message We need to find some users!</li>\n",
    "    <li>Remove all of the usernames from your list, and make sure the correct</li>\n",
    "message is printed</ul>"
   ]
  },
  {
   "cell_type": "code",
   "execution_count": 4,
   "metadata": {},
   "outputs": [
    {
     "name": "stdout",
     "output_type": "stream",
     "text": [
      "We need to find some users!\n"
     ]
    }
   ],
   "source": [
    "\n",
    "users=[]\n",
    "if users:\n",
    "    for user in users:\n",
    "        if user ==\"admin\":\n",
    "            print(f\"Hello {user},would you like to see a status report\")\n",
    "        else:\n",
    "            print(f\"Hello {user} \")\n",
    "else:\n",
    "    print(\"We need to find some users!\")"
   ]
  },
  {
   "cell_type": "markdown",
   "metadata": {},
   "source": [
    "### 5-10. Checking Usernames: Do the following to create a program that simulates how websites ensure that everyone has a unique username.\n",
    "<ul>\n",
    "    <li>Make a list of five or more usernames called current_users.</li>\n",
    "    <li>Make another list of five usernames called new_users. Make sure one ortwo of the new usernames are also in the current_users list.</li>\n",
    "<li>Loop through the new_users list to see if each new username has already been used. If it has, print a message that the person will need to enter a new username. If a username has not been used, print a message saying that the username is available.</li>\n",
    "<li> Make sure your comparison is case insensitive. If 'John' has been used, 'JOHN' should not be accepted.</li>\n",
    "</ul>"
   ]
  },
  {
   "cell_type": "code",
   "execution_count": 7,
   "metadata": {},
   "outputs": [
    {
     "name": "stdout",
     "output_type": "stream",
     "text": [
      "haris is available\n",
      "kamran is available\n",
      "Sorry ali is taken\n",
      "Sorry junaid is taken\n",
      "arbaz is available\n"
     ]
    }
   ],
   "source": [
    "current_users=[\"ali\",\"Shaheed\",\"admin\",\"junaid\",\"atif\"]\n",
    "new_users=[\"haris\",\"kamran\",\"ali\",\"junaid\",\"arbaz\"]\n",
    "\n",
    "\n",
    "current_users_lower=[user.lower() for user in current_users]\n",
    "for new_user in new_users:\n",
    "    if new_user.lower() in current_users_lower:\n",
    "        print(f\"Sorry {new_user} is taken\")\n",
    "    else:\n",
    "        print(f\"{new_user} is available\")\n"
   ]
  },
  {
   "cell_type": "markdown",
   "metadata": {},
   "source": [
    "### 5-11. Ordinal Numbers: Ordinal numbers indicate their position in a list, such as 1st or 2nd. Most ordinal numbers end in th, except 1, 2, and 3.\n",
    "<ul> <li>Store the numbers 1 through 9 in a list.</li>\n",
    "<li>Loop through the list.</li>\n",
    "<li> Use an if-elif-else chain inside the loop to print the proper ordinal ending for each number. Your output should read \"1st 2nd 3rd 4th 5th 6th\n",
    "7th 8th 9th\", and each result should be on a separate line.</li>\n",
    "</ul>"
   ]
  },
  {
   "cell_type": "code",
   "execution_count": 8,
   "metadata": {},
   "outputs": [
    {
     "name": "stdout",
     "output_type": "stream",
     "text": [
      "1st\n",
      "2nd\n",
      "3rd\n",
      "4th\n",
      "5th\n",
      "6th\n",
      "7th\n",
      "8th\n",
      "9th\n"
     ]
    }
   ],
   "source": [
    "numbers = list(range(1,10))\n",
    "\n",
    "for number in numbers:\n",
    "    if number == 1:\n",
    "        print(\"1st\")\n",
    "    elif number == 2:\n",
    "        print(\"2nd\")\n",
    "    elif number == 3:\n",
    "        print(\"3rd\")\n",
    "    else:\n",
    "        print(f\"{number}th\")"
   ]
  },
  {
   "cell_type": "code",
   "execution_count": null,
   "metadata": {},
   "outputs": [],
   "source": []
  }
 ],
 "metadata": {
  "kernelspec": {
   "display_name": "Python 3",
   "language": "python",
   "name": "python3"
  },
  "language_info": {
   "codemirror_mode": {
    "name": "ipython",
    "version": 3
   },
   "file_extension": ".py",
   "mimetype": "text/x-python",
   "name": "python",
   "nbconvert_exporter": "python",
   "pygments_lexer": "ipython3",
   "version": "3.8.5"
  }
 },
 "nbformat": 4,
 "nbformat_minor": 4
}
